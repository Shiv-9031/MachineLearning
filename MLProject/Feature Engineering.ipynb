{
 "cells": [
  {
   "cell_type": "code",
   "execution_count": 2,
   "id": "ff475de7",
   "metadata": {},
   "outputs": [
    {
     "data": {
      "text/plain": [
       "'\\nFeature Engineering is the process of using domain knowledge to\\nextract features from raw data. These features can be used to improve the performance of machine learning algorithms '"
      ]
     },
     "execution_count": 2,
     "metadata": {},
     "output_type": "execute_result"
    }
   ],
   "source": [
    "\"\"\"\n",
    "Feature Engineering is the process of using domain knowledge to\n",
    "extract features from raw data. These features can be used to improve the performance of machine learning algorithms \"\"\""
   ]
  },
  {
   "cell_type": "code",
   "execution_count": null,
   "id": "dfc1cdd8",
   "metadata": {},
   "outputs": [],
   "source": [
    "\"\"\"Feature Engineering has several steps:\n",
    "1.Feature Transformation:In this process we try to enhance feature(column) to perform better\n",
    "    in feature transformation we basically do 1.missing value imputation 2.handling categorical features 3. outlier detection\n",
    "    4. feature scaling\n",
    "    \n",
    "2.Feature Construction : In this we create new feature from existing features because we may feel that this feature can\n",
    "    enhance the performance of algorithm \n",
    "    \n",
    "3.Feature Selection : we select some features because programmer think that this sort of features will work better\n",
    "\n",
    "4.Feature Extraction : in this process we extract feature from existing features programmatically not manually .\"\"\""
   ]
  }
 ],
 "metadata": {
  "kernelspec": {
   "display_name": "Python 3 (ipykernel)",
   "language": "python",
   "name": "python3"
  },
  "language_info": {
   "codemirror_mode": {
    "name": "ipython",
    "version": 3
   },
   "file_extension": ".py",
   "mimetype": "text/x-python",
   "name": "python",
   "nbconvert_exporter": "python",
   "pygments_lexer": "ipython3",
   "version": "3.11.2"
  }
 },
 "nbformat": 4,
 "nbformat_minor": 5
}
