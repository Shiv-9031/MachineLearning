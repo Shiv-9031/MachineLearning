{
  "nbformat": 4,
  "nbformat_minor": 0,
  "metadata": {
    "colab": {
      "provenance": [],
      "authorship_tag": "ABX9TyMJDSJdwN7/0bVTi2ji0nVB",
      "include_colab_link": true
    },
    "kernelspec": {
      "name": "python3",
      "display_name": "Python 3"
    },
    "language_info": {
      "name": "python"
    }
  },
  "cells": [
    {
      "cell_type": "markdown",
      "metadata": {
        "id": "view-in-github",
        "colab_type": "text"
      },
      "source": [
        "<a href=\"https://colab.research.google.com/github/Shiv-9031/MachineLearning/blob/main/Web_Scraping.ipynb\" target=\"_parent\"><img src=\"https://colab.research.google.com/assets/colab-badge.svg\" alt=\"Open In Colab\"/></a>"
      ]
    },
    {
      "cell_type": "markdown",
      "source": [
        "**Import necessary libarary**"
      ],
      "metadata": {
        "id": "u4XVI7sHcNoJ"
      }
    },
    {
      "cell_type": "code",
      "execution_count": 5,
      "metadata": {
        "id": "JghYis6AbFE5"
      },
      "outputs": [],
      "source": [
        "import pandas as pd\n",
        "import requests\n",
        "#from bs4 import beautifulsoup -->wrong way to import\n",
        "from bs4 import BeautifulSoup"
      ]
    },
    {
      "cell_type": "markdown",
      "source": [
        "# **start coding for web scraping**"
      ],
      "metadata": {
        "id": "iEaBiddNfjfR"
      }
    },
    {
      "cell_type": "code",
      "source": [
        "headers={'User-Agent' : 'Mozilla/5.0 (Windows NT 10.0; Win64; x64) AppleWebKit/537.36 (KHTML, like Gecko) Chrome/111.0.0.0 Safari/537.36'}\n",
        "page=requests.get(\"https://www.ambitionbox.com/list-of-companies?campaign=homepage_companies_widget%2F3&page=2\",headers=headers).text\n"
      ],
      "metadata": {
        "id": "v6BoAZUHcgB3"
      },
      "execution_count": 18,
      "outputs": []
    },
    {
      "cell_type": "code",
      "source": [
        "soup=BeautifulSoup(page,'lxml')"
      ],
      "metadata": {
        "id": "AeJtVpC_lVJs"
      },
      "execution_count": 19,
      "outputs": []
    },
    {
      "cell_type": "code",
      "source": [
        "print(soup.prettify())"
      ],
      "metadata": {
        "colab": {
          "base_uri": "https://localhost:8080/"
        },
        "id": "3ER9EE6-lgO6",
        "outputId": "22811916-dca8-4d2c-ad6c-15a7d7935b56"
      },
      "execution_count": 20,
      "outputs": [
        {
          "output_type": "stream",
          "name": "stdout",
          "text": [
            "<!DOCTYPE html>\n",
            "<html>\n",
            " <head>\n",
            "  <meta charset=\"utf-8\"/>\n",
            "  <meta content=\"width=device-width, initial-scale=1, shrink-to-fit=no\" name=\"viewport\"/>\n",
            "  <meta content=\"5; URL='/list-of-companies?campaign=homepage_companies_widget%2F3&amp;page=2&amp;bm-verify=AAQAAAAH_____zbEYQ0YYKtS0iyr9i2b7Tsim2mNx6fOLinw7PRUxsgiSk9_UIoJnJKHgMTxjAavv1M0yF4bXdc1So73SZu8MR9HyV01I1c9YRkqq3pCl7GiEhm0J3-1sVI-wzmCNrx65P4My2UP3MobcbW0CBbzJmR_QBcBut1D0K75yy3rj_Gq8MLMO4rMJJptOq2tepsJVeT2egtZF1SOJXkZ-UnNH_DtBTmJK6oVI6LeFyanNOnToDWa5CouW9KBvOGL8cZpjSCZlRKU-DsnDOUD7B6qM57vLZcya2trE9lfOuDgB8Fp_R2oQa4-y0LIH0y7WFhJ_3owLNsKRmyr5lOMETDdSyBg'\" http-equiv=\"refresh\"/>\n",
            "  <title>\n",
            "  </title>\n",
            "  <script>\n",
            "   var i = 1680164839;\n",
            "        var j = i + Number(\"4439\" + \"53625\");\n",
            "  </script>\n",
            " </head>\n",
            " <body>\n",
            "  <noscript>\n",
            "   <iframe src=\"\" style=\"border: none; height: 100%; width: 100%;\">\n",
            "   </iframe>\n",
            "  </noscript>\n",
            "  <script>\n",
            "   var xhr = new XMLHttpRequest();\n",
            "          xhr.withCredentials = true;\n",
            "          xhr.addEventListener(\"loadend\", function() {\n",
            "              try {\n",
            "                  var data = JSON.parse(xhr.responseText);\n",
            "                  if (data.hasOwnProperty('reload')) {\n",
            "                      if (data[\"reload\"] == true) {\n",
            "                        window.location.replace(window.location.href.replace(/[&?]bm-verify=[^#]*/, \"\"));\n",
            "                        if(window.location.hash){\n",
            "                          window.location.reload();\n",
            "                        }\n",
            "                      }\n",
            "                  } else if (data.hasOwnProperty('location')) {\n",
            "                      window.location.replace(data[\"location\"]);\n",
            "\n",
            "                  } else {\n",
            "                      window.location.reload();\n",
            "                  }\n",
            "              } catch (e) {\n",
            "                  var data = {}\n",
            "                  window.location.reload();\n",
            "              }\n",
            "          });\n",
            "          xhr.open(\"POST\", \"/_sec/verify?provider=interstitial\", false);\n",
            "          xhr.setRequestHeader(\"Content-Type\", \"application/json\");\n",
            "          xhr.send(JSON.stringify({\n",
            "              \"bm-verify\": \"AAQAAAAH/////9iH5H6l1Ox1TbGF3Reg4Vyu3SNG53trjwir+WrRcOVSclhsu3rePMs5+HGygBWiqn2ub/ZdSg1jhcWPMPFwq+x4sJFi9b5pnuQClaBWsKS3RJeXlJRAKOA/jtEjbeMZnslf5x0yp/jlG3Dhkg0xZaSTYXO0PfqgIWUwpKEU1ueCcWQW5ecW4xIaexagqNrbCC2apl4vjxo3tVsgWcDK9Ki0LYqlO/7+LfUmqcuhmuP9lSAGhAHoQD4pbOkPbyDoTDpK6s3ZXLPxZrjh+NcuYTW4VFeJQy4beL3jsAAeuOfi0+t7QdMpZCB6zskqJwl3NCpnzSUPBATixCluqvl1TL6O3ZUehbRkGkT5HuqnPZxdMQ==\",\n",
            "              \"pow\": j\n",
            "          }));\n",
            "  </script>\n",
            " </body>\n",
            "</html>\n"
          ]
        }
      ]
    },
    {
      "cell_type": "code",
      "source": [
        "soup.find_all(\"h2\")"
      ],
      "metadata": {
        "colab": {
          "base_uri": "https://localhost:8080/"
        },
        "id": "MK5p5e-NobSw",
        "outputId": "0c81a57b-8390-4a8a-b6ea-851eb315f339"
      },
      "execution_count": 22,
      "outputs": [
        {
          "output_type": "execute_result",
          "data": {
            "text/plain": [
              "[]"
            ]
          },
          "metadata": {},
          "execution_count": 22
        }
      ]
    }
  ]
}